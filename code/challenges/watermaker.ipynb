{
 "cells": [
  {
   "cell_type": "code",
   "execution_count": null,
   "metadata": {},
   "outputs": [],
   "source": [
    "\"\"\"The WaterMaker exercise\"\"\"\n",
    "\n",
    "class Atom():\n",
    "    def __init__(self, atom_type):\n",
    "        self.atom_type = atom_type\n",
    "\n",
    "\n",
    "class Oxygen(Atom):\n",
    "    def __init__(self):\n",
    "        super().__init__('O')\n",
    "\n",
    "\n",
    "class Hydrogen(Atom):\n",
    "    def __init__(self):\n",
    "        super().__init__('H')\n",
    "\n",
    "\n",
    "class Water():\n",
    "    def __init__(self, oxygen, hydrogen1, hydrogen2):\n",
    "        self.oxygen = oxygen\n",
    "        self.hydrogens = [hydrogen1, hydrogen2]\n",
    "\n",
    "\n",
    "# Read input from user:\n",
    "num_oxygen = int(input(\"Number of oxigen?\"))\n",
    "num_hydrogen = int(input(\"Number of hydrogen?\"))\n",
    "\n",
    "# Create necessary objects\n",
    "oxygens = [Oxygen() for _ in range(num_oxygen)]\n",
    "hydrogens = [Hydrogen() for _ in range(num_hydrogen)]\n",
    "\n",
    "# Create water molecules\n",
    "waters = []\n",
    "hydrogen_counter = 0\n",
    "oxygen_counter = 0\n",
    "for oxygen in oxygens:\n",
    "    if len(hydrogens) >= 2:\n",
    "        waters.append(Water(oxygen, hydrogens[hydrogen_counter], hydrogens[hydrogen_counter + 1]))\n",
    "        hydrogen_counter += 2\n",
    "        oxygen_counter += 1\n",
    "\n",
    "# Print results \n",
    "print('{} water molecules created'.format(len(waters)))\n",
    "print('{} oxygen remainder'.format((len(oxygens) - oxygen_counter)))\n",
    "print('{} hydrogen remainder'.format((len(hydrogens) - hydrogen_counter)))\n"
   ]
  }
 ],
 "metadata": {
  "kernelspec": {
   "display_name": "Python 3",
   "language": "python",
   "name": "python3"
  },
  "language_info": {
   "codemirror_mode": {
    "name": "ipython",
    "version": 3
   },
   "file_extension": ".py",
   "mimetype": "text/x-python",
   "name": "python",
   "nbconvert_exporter": "python",
   "pygments_lexer": "ipython3",
   "version": "3.7.2"
  }
 },
 "nbformat": 4,
 "nbformat_minor": 2
}
