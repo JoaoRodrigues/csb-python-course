{
 "cells": [
  {
   "cell_type": "markdown",
   "metadata": {},
   "source": [
    "# Day 1 - Kata"
   ]
  },
  {
   "cell_type": "markdown",
   "metadata": {},
   "source": [
    "## Parsing Atom Data\n",
    "\n",
    "The goal is to parse atomic data from a plain-text file in PDB format:\n",
    "\n",
    "```\n",
    "ATOM      1  N   ILE A  16A     16.792  12.871   4.991  1.00  3.00\n",
    "ATOM      2  CA  ILE A  16      17.415  14.067   5.486  1.00  3.00\n",
    "ATOM      3  C   ILE A  16      17.370  15.207   4.480  1.00 11.29\n",
    "ATOM      4  O   ILE A  16      18.040  15.120   3.445  1.00  3.00\n",
    "ATOM      5  CB  ILE A  16      18.878  13.807   5.993  1.00  3.00\n",
    "ATOM      6  CG1 ILE A  16      18.976  12.643   6.989  1.00  3.97\n",
    "ATOM      7  CG2 ILE A  16      19.566  15.056   6.546  1.00  3.00\n",
    "ATOM      8  CD1 ILE A  16      18.413  13.065   8.374  1.00  3.00\n",
    "```\n",
    "(First residue information from [1ppe.pdb](1ppe.pdb) file)\n"
   ]
  },
  {
   "cell_type": "markdown",
   "metadata": {},
   "source": [
    "### 1. Parsing chains"
   ]
  },
  {
   "cell_type": "code",
   "execution_count": null,
   "metadata": {},
   "outputs": [],
   "source": []
  },
  {
   "cell_type": "markdown",
   "metadata": {},
   "source": [
    "### 2. Adding residues"
   ]
  },
  {
   "cell_type": "code",
   "execution_count": null,
   "metadata": {},
   "outputs": [],
   "source": []
  },
  {
   "cell_type": "markdown",
   "metadata": {},
   "source": [
    "### 3. Adding atomic data to residues"
   ]
  },
  {
   "cell_type": "code",
   "execution_count": null,
   "metadata": {},
   "outputs": [],
   "source": []
  },
  {
   "cell_type": "markdown",
   "metadata": {},
   "source": [
    "### 4. Operations over data"
   ]
  },
  {
   "cell_type": "code",
   "execution_count": null,
   "metadata": {},
   "outputs": [],
   "source": []
  }
 ],
 "metadata": {
  "kernelspec": {
   "display_name": "Python 3",
   "language": "python",
   "name": "python3"
  },
  "language_info": {
   "codemirror_mode": {
    "name": "ipython",
    "version": 3
   },
   "file_extension": ".py",
   "mimetype": "text/x-python",
   "name": "python",
   "nbconvert_exporter": "python",
   "pygments_lexer": "ipython3",
   "version": "3.7.2"
  }
 },
 "nbformat": 4,
 "nbformat_minor": 2
}
