{
 "cells": [
  {
   "cell_type": "markdown",
   "metadata": {},
   "source": [
    "# Day 2 - Kata"
   ]
  },
  {
   "cell_type": "markdown",
   "metadata": {},
   "source": [
    "## Refactoring our atomic data parser\n",
    "\n",
    "The goal is to parse atomic data from a plain-text file in PDB format:\n",
    "\n",
    "```\n",
    "ATOM      1  N   ILE A  16      16.792  12.871   4.991  1.00  3.00\n",
    "ATOM      2  CA  ILE A  16      17.415  14.067   5.486  1.00  3.00\n",
    "ATOM      3  C   ILE A  16      17.370  15.207   4.480  1.00 11.29\n",
    "ATOM      4  O   ILE A  16      18.040  15.120   3.445  1.00  3.00\n",
    "ATOM      5  CB  ILE A  16      18.878  13.807   5.993  1.00  3.00\n",
    "ATOM      6  CG1 ILE A  16      18.976  12.643   6.989  1.00  3.97\n",
    "ATOM      7  CG2 ILE A  16      19.566  15.056   6.546  1.00  3.00\n",
    "ATOM      8  CD1 ILE A  16      18.413  13.065   8.374  1.00  3.00\n",
    "```\n",
    "(First residue information from [1ppe.pdb](1ppe.pdb) file)\n"
   ]
  },
  {
   "cell_type": "markdown",
   "metadata": {},
   "source": [
    "### 1. Declarative version"
   ]
  },
  {
   "cell_type": "code",
   "execution_count": 2,
   "metadata": {},
   "outputs": [],
   "source": [
    "def new_atom():\n",
    "    return {'name':'', 'number':0, 'x':0., 'y':0., 'z':0.}\n",
    "\n",
    "\n",
    "chains = {}\n",
    "\n",
    "with open('1ppe.pdb') as pdb_input:\n",
    "    for line in pdb_input:\n",
    "        if line.startswith('ATOM  '):\n",
    "            chain_id = line[21]\n",
    "            if chain_id not in chains:\n",
    "                chains[chain_id] = []\n",
    "            \n",
    "            # Parsing residue data\n",
    "            residue_name = line[17:21].strip()\n",
    "            residue_number = int(line[22:26])\n",
    "            residue = f\"{residue_name}.{residue_number}\"\n",
    "            if len(chains[chain_id]) == 0 or chains[chain_id][-1][0] != residue:\n",
    "                chains[chain_id].append((residue, []))\n",
    "                \n",
    "            # Atom data\n",
    "            atom = new_atom()\n",
    "            atom['name'] = line[12:16].strip()\n",
    "            atom['number'] = int(line[6:11])\n",
    "            atom['x'] = float(line[30:38])\n",
    "            atom['y'] = float(line[38:46])\n",
    "            atom['z'] = float(line[46:54])\n",
    "            \n",
    "            chains[chain_id][-1][1].append(atom)\n"
   ]
  },
  {
   "cell_type": "markdown",
   "metadata": {},
   "source": [
    "### 2. OOP version"
   ]
  },
  {
   "cell_type": "code",
   "execution_count": null,
   "metadata": {},
   "outputs": [],
   "source": []
  }
 ],
 "metadata": {
  "kernelspec": {
   "display_name": "Python 3",
   "language": "python",
   "name": "python3"
  },
  "language_info": {
   "codemirror_mode": {
    "name": "ipython",
    "version": 3
   },
   "file_extension": ".py",
   "mimetype": "text/x-python",
   "name": "python",
   "nbconvert_exporter": "python",
   "pygments_lexer": "ipython3",
   "version": "3.7.2"
  }
 },
 "nbformat": 4,
 "nbformat_minor": 2
}
